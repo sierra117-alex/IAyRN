{
  "nbformat": 4,
  "nbformat_minor": 0,
  "metadata": {
    "colab": {
      "provenance": []
    },
    "kernelspec": {
      "name": "python3",
      "display_name": "Python 3"
    },
    "language_info": {
      "name": "python"
    }
  },
  "cells": [
    {
      "cell_type": "code",
      "execution_count": null,
      "metadata": {
        "id": "Efwh2tnDkJAI"
      },
      "outputs": [],
      "source": [
        "#A2 - Ejercicios en Python\n",
        "#Alejandro Estrada Arias   1849819  Sábado - N1-N3"
      ]
    },
    {
      "cell_type": "code",
      "source": [
        "#Desarrolla un algoritmo que le pida al usuario por su nombre y que lo salude con su nombre, excepto si se llama “Ana”, “Juan”, y “Pedro”.\n",
        "print(\"¿Cual es tu nombre?\")\n",
        "nombre = input()\n",
        "if nombre == \"Ana\" or nombre == \"Juan\" or nombre == \"Pedro\":\n",
        "  print(\"No me gusta tu nombre, Adios\")\n",
        "else:\n",
        "  print(\"Hola,mucho gusto en conocerte \" + nombre)"
      ],
      "metadata": {
        "colab": {
          "base_uri": "https://localhost:8080/"
        },
        "id": "tbtN6cNjkzCK",
        "outputId": "4986be72-918e-4c11-e6f6-bca69a6becb0"
      },
      "execution_count": null,
      "outputs": [
        {
          "output_type": "stream",
          "name": "stdout",
          "text": [
            "¿Cual es tu nombre?\n",
            "Alejandro\n",
            "Hola,mucho gusto en conocerte Alejandro\n"
          ]
        }
      ]
    },
    {
      "cell_type": "code",
      "source": [
        "#Desarrolla un algoritmo que por medio de una función, le pida al usuario una lista de N elementos y como resultado invierta el sentido de la lista.\n",
        "lista = []\n",
        "Ele = input(\"Porfavor introduce el otro elemento que irá en la lista: \")\n",
        "lista.append(Ele) \n",
        "Decision = input(\"¿Gustas añadir otro elemento?\")\n",
        "while Decision == \"Si\" or Decision == \"si\":\n",
        " Ele = input(\"Porfavor introduce el otro elemento que irá en la lista: \")\n",
        " lista.append(Ele)\n",
        " Decision = input(\"¿Gustas añadir otro elemento?\")\n",
        "\n",
        "lista.reverse()\n",
        "print(f\"Los elementos introducidos son {lista}\")"
      ],
      "metadata": {
        "colab": {
          "base_uri": "https://localhost:8080/"
        },
        "id": "sDsPsuVDtBL6",
        "outputId": "2c99735b-3258-491b-dea2-1190e59c8e21"
      },
      "execution_count": null,
      "outputs": [
        {
          "output_type": "stream",
          "name": "stdout",
          "text": [
            "Porfavor introduce el otro elemento que irá en la lista: antena\n",
            "¿Gustas añadir otro elemento?si\n",
            "Porfavor introduce el otro elemento que irá en la lista: carton\n",
            "¿Gustas añadir otro elemento?si\n",
            "Porfavor introduce el otro elemento que irá en la lista: rop\n",
            "¿Gustas añadir otro elemento?si\n",
            "Porfavor introduce el otro elemento que irá en la lista: botas\n",
            "¿Gustas añadir otro elemento?si\n",
            "Porfavor introduce el otro elemento que irá en la lista: vaso\n",
            "¿Gustas añadir otro elemento?no\n",
            "Los elementos introducidos son ['vaso', 'botas', 'rop', 'carton', 'antena']\n"
          ]
        }
      ]
    },
    {
      "cell_type": "code",
      "source": [
        "#Desarrolla un algoritmo que le pregunte al usuario cuántos números de la serie de Fibonnaci quiere generar y que al final los imprima.\n",
        "def fib(n):\n",
        "  a = 0\n",
        "  b= 1\n",
        "  for k in range(n):\n",
        "    c = a+b\n",
        "    a = b\n",
        "    b = c \n",
        "  return b\n",
        "num = int(input(\"Porfavor introduce la cantidad de números de la serie de Fibonnaci que deseas imprimir: \"))\n",
        "for x in range(num):\n",
        "  print(fib(x))\n"
      ],
      "metadata": {
        "colab": {
          "base_uri": "https://localhost:8080/"
        },
        "id": "z-_X4lBX3XNb",
        "outputId": "4557a487-fbbc-443a-f3c1-164dab43251b"
      },
      "execution_count": null,
      "outputs": [
        {
          "output_type": "stream",
          "name": "stdout",
          "text": [
            "Porfavor introduce la cantidad de números de la serie de Fibonnaci que deseas imprimir: 15\n",
            "1\n",
            "1\n",
            "2\n",
            "3\n",
            "5\n",
            "8\n",
            "13\n",
            "21\n",
            "34\n",
            "55\n",
            "89\n",
            "144\n",
            "233\n",
            "377\n",
            "610\n"
          ]
        }
      ]
    }
  ]
}